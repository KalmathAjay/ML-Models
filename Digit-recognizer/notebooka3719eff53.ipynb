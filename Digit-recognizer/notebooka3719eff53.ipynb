{
 "cells": [
  {
   "cell_type": "markdown",
   "id": "191673eb",
   "metadata": {},
   "source": [
    "#### Handwritten Digit Recognition with Convolutional Neural Networks\n",
    "\n",
    "This Python script utilizes Convolutional Neural Networks (CNNs) to perform handwritten digit recognition. The dataset used in this script consists of images of handwritten digits, with corresponding labels indicating the digit represented in each image.\n",
    "\n",
    "#### Problem Description\n",
    "\n",
    "The problem addressed in this script is that of handwritten digit recognition, where the goal is to correctly classify images of handwritten digits (0 through 9). The script preprocesses the image data, constructs a CNN model architecture, trains the model on the training dataset, and evaluates its performance. Finally, the trained model is used to make predictions on a separate test dataset, and the predictions are saved to a CSV file for submission.\n"
   ]
  },
  {
   "cell_type": "code",
   "execution_count": 19,
   "id": "728b3025",
   "metadata": {
    "execution": {
     "iopub.execute_input": "2024-04-12T05:13:10.607515Z",
     "iopub.status.busy": "2024-04-12T05:13:10.607165Z",
     "iopub.status.idle": "2024-04-12T05:13:24.800453Z",
     "shell.execute_reply": "2024-04-12T05:13:24.799345Z"
    },
    "papermill": {
     "duration": 14.200841,
     "end_time": "2024-04-12T05:13:24.802877",
     "exception": false,
     "start_time": "2024-04-12T05:13:10.602036",
     "status": "completed"
    },
    "tags": []
   },
   "outputs": [],
   "source": [
    "# Importing necessary libraries\n",
    "import numpy as np\n",
    "import pandas as pd\n",
    "import matplotlib.pyplot as plt\n",
    "import seaborn as sns\n",
    "import tensorflow as tf\n",
    "from sklearn.model_selection import train_test_split\n",
    "import warnings\n",
    "\n",
    "# Ignore all warnings\n",
    "warnings.filterwarnings(\"ignore\")\n"
   ]
  },
  {
   "cell_type": "code",
   "execution_count": 20,
   "id": "649328d9",
   "metadata": {
    "execution": {
     "iopub.execute_input": "2024-04-12T05:13:24.813444Z",
     "iopub.status.busy": "2024-04-12T05:13:24.812883Z",
     "iopub.status.idle": "2024-04-12T05:13:30.343630Z",
     "shell.execute_reply": "2024-04-12T05:13:30.342736Z"
    },
    "papermill": {
     "duration": 5.538211,
     "end_time": "2024-04-12T05:13:30.345701",
     "exception": false,
     "start_time": "2024-04-12T05:13:24.807490",
     "status": "completed"
    },
    "tags": []
   },
   "outputs": [
    {
     "data": {
      "text/html": [
       "<div>\n",
       "<style scoped>\n",
       "    .dataframe tbody tr th:only-of-type {\n",
       "        vertical-align: middle;\n",
       "    }\n",
       "\n",
       "    .dataframe tbody tr th {\n",
       "        vertical-align: top;\n",
       "    }\n",
       "\n",
       "    .dataframe thead th {\n",
       "        text-align: right;\n",
       "    }\n",
       "</style>\n",
       "<table border=\"1\" class=\"dataframe\">\n",
       "  <thead>\n",
       "    <tr style=\"text-align: right;\">\n",
       "      <th></th>\n",
       "      <th>label</th>\n",
       "      <th>pixel0</th>\n",
       "      <th>pixel1</th>\n",
       "      <th>pixel2</th>\n",
       "      <th>pixel3</th>\n",
       "      <th>pixel4</th>\n",
       "      <th>pixel5</th>\n",
       "      <th>pixel6</th>\n",
       "      <th>pixel7</th>\n",
       "      <th>pixel8</th>\n",
       "      <th>...</th>\n",
       "      <th>pixel774</th>\n",
       "      <th>pixel775</th>\n",
       "      <th>pixel776</th>\n",
       "      <th>pixel777</th>\n",
       "      <th>pixel778</th>\n",
       "      <th>pixel779</th>\n",
       "      <th>pixel780</th>\n",
       "      <th>pixel781</th>\n",
       "      <th>pixel782</th>\n",
       "      <th>pixel783</th>\n",
       "    </tr>\n",
       "  </thead>\n",
       "  <tbody>\n",
       "    <tr>\n",
       "      <th>0</th>\n",
       "      <td>1</td>\n",
       "      <td>0</td>\n",
       "      <td>0</td>\n",
       "      <td>0</td>\n",
       "      <td>0</td>\n",
       "      <td>0</td>\n",
       "      <td>0</td>\n",
       "      <td>0</td>\n",
       "      <td>0</td>\n",
       "      <td>0</td>\n",
       "      <td>...</td>\n",
       "      <td>0</td>\n",
       "      <td>0</td>\n",
       "      <td>0</td>\n",
       "      <td>0</td>\n",
       "      <td>0</td>\n",
       "      <td>0</td>\n",
       "      <td>0</td>\n",
       "      <td>0</td>\n",
       "      <td>0</td>\n",
       "      <td>0</td>\n",
       "    </tr>\n",
       "    <tr>\n",
       "      <th>1</th>\n",
       "      <td>0</td>\n",
       "      <td>0</td>\n",
       "      <td>0</td>\n",
       "      <td>0</td>\n",
       "      <td>0</td>\n",
       "      <td>0</td>\n",
       "      <td>0</td>\n",
       "      <td>0</td>\n",
       "      <td>0</td>\n",
       "      <td>0</td>\n",
       "      <td>...</td>\n",
       "      <td>0</td>\n",
       "      <td>0</td>\n",
       "      <td>0</td>\n",
       "      <td>0</td>\n",
       "      <td>0</td>\n",
       "      <td>0</td>\n",
       "      <td>0</td>\n",
       "      <td>0</td>\n",
       "      <td>0</td>\n",
       "      <td>0</td>\n",
       "    </tr>\n",
       "    <tr>\n",
       "      <th>2</th>\n",
       "      <td>1</td>\n",
       "      <td>0</td>\n",
       "      <td>0</td>\n",
       "      <td>0</td>\n",
       "      <td>0</td>\n",
       "      <td>0</td>\n",
       "      <td>0</td>\n",
       "      <td>0</td>\n",
       "      <td>0</td>\n",
       "      <td>0</td>\n",
       "      <td>...</td>\n",
       "      <td>0</td>\n",
       "      <td>0</td>\n",
       "      <td>0</td>\n",
       "      <td>0</td>\n",
       "      <td>0</td>\n",
       "      <td>0</td>\n",
       "      <td>0</td>\n",
       "      <td>0</td>\n",
       "      <td>0</td>\n",
       "      <td>0</td>\n",
       "    </tr>\n",
       "    <tr>\n",
       "      <th>3</th>\n",
       "      <td>4</td>\n",
       "      <td>0</td>\n",
       "      <td>0</td>\n",
       "      <td>0</td>\n",
       "      <td>0</td>\n",
       "      <td>0</td>\n",
       "      <td>0</td>\n",
       "      <td>0</td>\n",
       "      <td>0</td>\n",
       "      <td>0</td>\n",
       "      <td>...</td>\n",
       "      <td>0</td>\n",
       "      <td>0</td>\n",
       "      <td>0</td>\n",
       "      <td>0</td>\n",
       "      <td>0</td>\n",
       "      <td>0</td>\n",
       "      <td>0</td>\n",
       "      <td>0</td>\n",
       "      <td>0</td>\n",
       "      <td>0</td>\n",
       "    </tr>\n",
       "    <tr>\n",
       "      <th>4</th>\n",
       "      <td>0</td>\n",
       "      <td>0</td>\n",
       "      <td>0</td>\n",
       "      <td>0</td>\n",
       "      <td>0</td>\n",
       "      <td>0</td>\n",
       "      <td>0</td>\n",
       "      <td>0</td>\n",
       "      <td>0</td>\n",
       "      <td>0</td>\n",
       "      <td>...</td>\n",
       "      <td>0</td>\n",
       "      <td>0</td>\n",
       "      <td>0</td>\n",
       "      <td>0</td>\n",
       "      <td>0</td>\n",
       "      <td>0</td>\n",
       "      <td>0</td>\n",
       "      <td>0</td>\n",
       "      <td>0</td>\n",
       "      <td>0</td>\n",
       "    </tr>\n",
       "  </tbody>\n",
       "</table>\n",
       "<p>5 rows × 785 columns</p>\n",
       "</div>"
      ],
      "text/plain": [
       "   label  pixel0  pixel1  pixel2  pixel3  pixel4  pixel5  pixel6  pixel7  \\\n",
       "0      1       0       0       0       0       0       0       0       0   \n",
       "1      0       0       0       0       0       0       0       0       0   \n",
       "2      1       0       0       0       0       0       0       0       0   \n",
       "3      4       0       0       0       0       0       0       0       0   \n",
       "4      0       0       0       0       0       0       0       0       0   \n",
       "\n",
       "   pixel8  ...  pixel774  pixel775  pixel776  pixel777  pixel778  pixel779  \\\n",
       "0       0  ...         0         0         0         0         0         0   \n",
       "1       0  ...         0         0         0         0         0         0   \n",
       "2       0  ...         0         0         0         0         0         0   \n",
       "3       0  ...         0         0         0         0         0         0   \n",
       "4       0  ...         0         0         0         0         0         0   \n",
       "\n",
       "   pixel780  pixel781  pixel782  pixel783  \n",
       "0         0         0         0         0  \n",
       "1         0         0         0         0  \n",
       "2         0         0         0         0  \n",
       "3         0         0         0         0  \n",
       "4         0         0         0         0  \n",
       "\n",
       "[5 rows x 785 columns]"
      ]
     },
     "execution_count": 20,
     "metadata": {},
     "output_type": "execute_result"
    }
   ],
   "source": [
    "# Read training and test data files\n",
    "train = pd.read_csv(\"train.csv\")\n",
    "test = pd.read_csv(\"test.csv\")\n",
    "train.head()"
   ]
  },
  {
   "cell_type": "code",
   "execution_count": 21,
   "id": "fa274000",
   "metadata": {
    "execution": {
     "iopub.execute_input": "2024-04-12T05:13:30.356799Z",
     "iopub.status.busy": "2024-04-12T05:13:30.356499Z",
     "iopub.status.idle": "2024-04-12T05:13:30.361315Z",
     "shell.execute_reply": "2024-04-12T05:13:30.360206Z"
    },
    "papermill": {
     "duration": 0.012437,
     "end_time": "2024-04-12T05:13:30.363192",
     "exception": false,
     "start_time": "2024-04-12T05:13:30.350755",
     "status": "completed"
    },
    "tags": []
   },
   "outputs": [
    {
     "name": "stdout",
     "output_type": "stream",
     "text": [
      "Training dataset shape: (42000, 785)\n",
      "Test dataset shape: (28000, 784)\n"
     ]
    }
   ],
   "source": [
    "# Displaying the shape of the datasets\n",
    "print(\"Training dataset shape:\", train.shape)\n",
    "print(\"Test dataset shape:\", test.shape)"
   ]
  },
  {
   "cell_type": "code",
   "execution_count": 22,
   "id": "1e398d0f",
   "metadata": {
    "execution": {
     "iopub.execute_input": "2024-04-12T05:13:30.373639Z",
     "iopub.status.busy": "2024-04-12T05:13:30.373357Z",
     "iopub.status.idle": "2024-04-12T05:13:30.550872Z",
     "shell.execute_reply": "2024-04-12T05:13:30.549842Z"
    },
    "papermill": {
     "duration": 0.185162,
     "end_time": "2024-04-12T05:13:30.553089",
     "exception": false,
     "start_time": "2024-04-12T05:13:30.367927",
     "status": "completed"
    },
    "tags": []
   },
   "outputs": [
    {
     "data": {
      "text/plain": [
       "((42000, 784), (42000,), (28000, 784))"
      ]
     },
     "execution_count": 22,
     "metadata": {},
     "output_type": "execute_result"
    }
   ],
   "source": [
    "# Splitting the training dataset into features and labels\n",
    "train_y = train[\"label\"].astype(\"float32\")\n",
    "train_x = train.drop([\"label\"], axis=1).astype(\"int32\")\n",
    "test_x = test.astype(\"float32\")\n",
    "train_x.shape, train_y.shape, test_x.shape"
   ]
  },
  {
   "cell_type": "code",
   "execution_count": 23,
   "id": "14562b6e",
   "metadata": {
    "execution": {
     "iopub.execute_input": "2024-04-12T05:13:30.565211Z",
     "iopub.status.busy": "2024-04-12T05:13:30.564475Z",
     "iopub.status.idle": "2024-04-12T05:13:30.680618Z",
     "shell.execute_reply": "2024-04-12T05:13:30.679598Z"
    },
    "papermill": {
     "duration": 0.124507,
     "end_time": "2024-04-12T05:13:30.682777",
     "exception": false,
     "start_time": "2024-04-12T05:13:30.558270",
     "status": "completed"
    },
    "tags": []
   },
   "outputs": [
    {
     "data": {
      "text/plain": [
       "((42000, 28, 28, 1), (28000, 28, 28, 1))"
      ]
     },
     "execution_count": 23,
     "metadata": {},
     "output_type": "execute_result"
    }
   ],
   "source": [
    "# Reshaping and normalizing the features\n",
    "train_x = train_x.values.reshape(-1, 28, 28, 1)\n",
    "train_x = train_x / 255.0\n",
    "test_x = test_x.values.reshape(-1, 28, 28, 1)\n",
    "test_x = test_x / 255.0\n",
    "train_x.shape, test_x.shape"
   ]
  },
  {
   "cell_type": "code",
   "execution_count": 24,
   "id": "6df34964",
   "metadata": {
    "execution": {
     "iopub.execute_input": "2024-04-12T05:13:30.694408Z",
     "iopub.status.busy": "2024-04-12T05:13:30.693827Z",
     "iopub.status.idle": "2024-04-12T05:13:30.700717Z",
     "shell.execute_reply": "2024-04-12T05:13:30.699915Z"
    },
    "papermill": {
     "duration": 0.014626,
     "end_time": "2024-04-12T05:13:30.702535",
     "exception": false,
     "start_time": "2024-04-12T05:13:30.687909",
     "status": "completed"
    },
    "tags": []
   },
   "outputs": [
    {
     "data": {
      "text/plain": [
       "(42000, 10)"
      ]
     },
     "execution_count": 24,
     "metadata": {},
     "output_type": "execute_result"
    }
   ],
   "source": [
    "# One Hot Encoding\n",
    "train_y = tf.keras.utils.to_categorical(train_y, 10)\n",
    "train_y.shape"
   ]
  },
  {
   "cell_type": "code",
   "execution_count": 25,
   "id": "7489b741",
   "metadata": {
    "execution": {
     "iopub.execute_input": "2024-04-12T05:13:30.713634Z",
     "iopub.status.busy": "2024-04-12T05:13:30.713383Z",
     "iopub.status.idle": "2024-04-12T05:13:31.623637Z",
     "shell.execute_reply": "2024-04-12T05:13:31.622794Z"
    },
    "papermill": {
     "duration": 0.918096,
     "end_time": "2024-04-12T05:13:31.625582",
     "exception": false,
     "start_time": "2024-04-12T05:13:30.707486",
     "status": "completed"
    },
    "tags": []
   },
   "outputs": [],
   "source": [
    "# Defining the model architecture\n",
    "model = tf.keras.models.Sequential([\n",
    "    \n",
    "    # Convolutional layers\n",
    "    tf.keras.layers.Conv2D(32, (3, 3), activation=\"relu\", input_shape=(28, 28, 1)),  # 32 filters, 3x3 kernel, ReLU activation, input shape (28, 28, 1)\n",
    "    tf.keras.layers.Conv2D(32, (3, 3), activation=\"relu\"),  # 32 filters, 3x3 kernel, ReLU activation\n",
    "    tf.keras.layers.MaxPooling2D(2, 2),  # Max pooling with 2x2 pool size and stride 2\n",
    "    tf.keras.layers.Conv2D(64, (3, 3), activation=\"relu\", padding=\"same\"),  # 64 filters, 3x3 kernel, ReLU activation, padding same\n",
    "    tf.keras.layers.Conv2D(64, (3, 3), activation=\"relu\", padding=\"same\"),  # 64 filters, 3x3 kernel, ReLU activation, padding same\n",
    "    tf.keras.layers.MaxPooling2D(pool_size=(2, 2), strides=(2, 2)),  # Max pooling with 2x2 pool size and stride 2\n",
    "    tf.keras.layers.Dropout(0.25),  # Dropout layer with dropout rate of 0.25\n",
    "    tf.keras.layers.Conv2D(64, (3, 3), activation=\"relu\", padding=\"same\"),  # 64 filters, 3x3 kernel, ReLU activation, padding same\n",
    "    tf.keras.layers.Conv2D(64, (3, 3), activation=\"relu\", padding=\"same\"),  # 64 filters, 3x3 kernel, ReLU activation, padding same\n",
    "    tf.keras.layers.MaxPooling2D(pool_size=(2, 2), strides=(2, 2)),  # Max pooling with 2x2 pool size and stride 2\n",
    "    tf.keras.layers.Dropout(0.25),  # Dropout layer with dropout rate of 0.25\n",
    "    \n",
    "    # Flatten layer\n",
    "    tf.keras.layers.Flatten(),\n",
    "    \n",
    "    # Fully connected layers\n",
    "    tf.keras.layers.Dense(256, activation=\"relu\"),  # Dense layer with 256 units and ReLU activation\n",
    "    tf.keras.layers.Dense(256, activation=\"relu\"),  # Dense layer with 256 units and ReLU activation\n",
    "    tf.keras.layers.Dropout(0.50),  # Dropout layer with dropout rate of 0.50\n",
    "    \n",
    "    # Output layer\n",
    "    tf.keras.layers.Dense(10, activation=\"softmax\")  # Dense layer with 10 units and softmax activation\n",
    "])\n"
   ]
  },
  {
   "cell_type": "markdown",
   "id": "08b7c0fb",
   "metadata": {},
   "source": [
    "# Model Architecture\n",
    "\n",
    "![Model Architecture](model_architecture.png)\n"
   ]
  },
  {
   "cell_type": "code",
   "execution_count": 26,
   "id": "d974bee9",
   "metadata": {},
   "outputs": [
    {
     "name": "stdout",
     "output_type": "stream",
     "text": [
      "Model: \"sequential_1\"\n",
      "_________________________________________________________________\n",
      " Layer (type)                Output Shape              Param #   \n",
      "=================================================================\n",
      " conv2d_6 (Conv2D)           (None, 26, 26, 32)        320       \n",
      "                                                                 \n",
      " conv2d_7 (Conv2D)           (None, 24, 24, 32)        9248      \n",
      "                                                                 \n",
      " max_pooling2d_3 (MaxPoolin  (None, 12, 12, 32)        0         \n",
      " g2D)                                                            \n",
      "                                                                 \n",
      " conv2d_8 (Conv2D)           (None, 12, 12, 64)        18496     \n",
      "                                                                 \n",
      " conv2d_9 (Conv2D)           (None, 12, 12, 64)        36928     \n",
      "                                                                 \n",
      " max_pooling2d_4 (MaxPoolin  (None, 6, 6, 64)          0         \n",
      " g2D)                                                            \n",
      "                                                                 \n",
      " dropout_3 (Dropout)         (None, 6, 6, 64)          0         \n",
      "                                                                 \n",
      " conv2d_10 (Conv2D)          (None, 6, 6, 64)          36928     \n",
      "                                                                 \n",
      " conv2d_11 (Conv2D)          (None, 6, 6, 64)          36928     \n",
      "                                                                 \n",
      " max_pooling2d_5 (MaxPoolin  (None, 3, 3, 64)          0         \n",
      " g2D)                                                            \n",
      "                                                                 \n",
      " dropout_4 (Dropout)         (None, 3, 3, 64)          0         \n",
      "                                                                 \n",
      " flatten_1 (Flatten)         (None, 576)               0         \n",
      "                                                                 \n",
      " dense_3 (Dense)             (None, 256)               147712    \n",
      "                                                                 \n",
      " dense_4 (Dense)             (None, 256)               65792     \n",
      "                                                                 \n",
      " dropout_5 (Dropout)         (None, 256)               0         \n",
      "                                                                 \n",
      " dense_5 (Dense)             (None, 10)                2570      \n",
      "                                                                 \n",
      "=================================================================\n",
      "Total params: 354922 (1.35 MB)\n",
      "Trainable params: 354922 (1.35 MB)\n",
      "Non-trainable params: 0 (0.00 Byte)\n",
      "_________________________________________________________________\n"
     ]
    }
   ],
   "source": [
    "# Displaying the model summary\n",
    "model.summary()"
   ]
  },
  {
   "cell_type": "code",
   "execution_count": 27,
   "id": "95523465",
   "metadata": {
    "execution": {
     "iopub.execute_input": "2024-04-12T05:13:31.639744Z",
     "iopub.status.busy": "2024-04-12T05:13:31.639058Z",
     "iopub.status.idle": "2024-04-12T05:13:31.644488Z",
     "shell.execute_reply": "2024-04-12T05:13:31.643635Z"
    },
    "papermill": {
     "duration": 0.014339,
     "end_time": "2024-04-12T05:13:31.646269",
     "exception": false,
     "start_time": "2024-04-12T05:13:31.631930",
     "status": "completed"
    },
    "tags": []
   },
   "outputs": [],
   "source": [
    "# Defining a callback to stop training when accuracy reaches a certain threshold\n",
    "class myCallback(tf.keras.callbacks.Callback):\n",
    "    def on_epoch_end(self, epoch, logs={}):\n",
    "        if logs.get(\"accuracy\") > 0.999:\n",
    "            print(\"\\nReached 99.9% accuracy, cancelling training!\")\n",
    "            self.model.stop_training = True"
   ]
  },
  {
   "cell_type": "code",
   "execution_count": 28,
   "id": "9fdc362c",
   "metadata": {
    "execution": {
     "iopub.execute_input": "2024-04-12T05:13:31.659894Z",
     "iopub.status.busy": "2024-04-12T05:13:31.659174Z",
     "iopub.status.idle": "2024-04-12T05:14:45.678577Z",
     "shell.execute_reply": "2024-04-12T05:14:45.677679Z"
    },
    "papermill": {
     "duration": 74.028229,
     "end_time": "2024-04-12T05:14:45.680614",
     "exception": false,
     "start_time": "2024-04-12T05:13:31.652385",
     "status": "completed"
    },
    "tags": []
   },
   "outputs": [],
   "source": [
    "# Compiling the model\n",
    "Optimizer = tf.keras.optimizers.Adam(\n",
    "    learning_rate=0.0005, beta_1=0.9, beta_2=0.999, epsilon=1e-07, name=\"Adam\"\n",
    ")\n",
    "\n",
    "model.compile(\n",
    "    optimizer=Optimizer, loss=\"categorical_crossentropy\", metrics=[\"accuracy\"]\n",
    ")"
   ]
  },
  {
   "cell_type": "code",
   "execution_count": 32,
   "id": "c9a0ecfa",
   "metadata": {},
   "outputs": [
    {
     "name": "stdout",
     "output_type": "stream",
     "text": [
      "Epoch 1/20\n",
      "840/840 [==============================] - 49s 45ms/step - loss: 0.3220 - accuracy: 0.8946\n",
      "Epoch 2/20\n",
      "840/840 [==============================] - 48s 57ms/step - loss: 0.0830 - accuracy: 0.9753\n",
      "Epoch 3/20\n",
      "840/840 [==============================] - 49s 59ms/step - loss: 0.0574 - accuracy: 0.9829\n",
      "Epoch 4/20\n",
      "840/840 [==============================] - 48s 57ms/step - loss: 0.0471 - accuracy: 0.9863\n",
      "Epoch 5/20\n",
      "840/840 [==============================] - 48s 57ms/step - loss: 0.0432 - accuracy: 0.9875\n",
      "Epoch 6/20\n",
      "840/840 [==============================] - 45s 53ms/step - loss: 0.0328 - accuracy: 0.9907\n",
      "Epoch 7/20\n",
      "840/840 [==============================] - 44s 52ms/step - loss: 0.0287 - accuracy: 0.9912\n",
      "Epoch 8/20\n",
      "840/840 [==============================] - 46s 55ms/step - loss: 0.0268 - accuracy: 0.9922\n",
      "Epoch 9/20\n",
      "840/840 [==============================] - 46s 55ms/step - loss: 0.0241 - accuracy: 0.9933\n",
      "Epoch 10/20\n",
      "840/840 [==============================] - 44s 53ms/step - loss: 0.0223 - accuracy: 0.9931\n",
      "Epoch 11/20\n",
      "840/840 [==============================] - 45s 54ms/step - loss: 0.0217 - accuracy: 0.9937\n",
      "Epoch 12/20\n",
      "840/840 [==============================] - 57s 68ms/step - loss: 0.0191 - accuracy: 0.9944\n",
      "Epoch 13/20\n",
      "840/840 [==============================] - 37s 44ms/step - loss: 0.0190 - accuracy: 0.9945\n",
      "Epoch 14/20\n",
      "840/840 [==============================] - 49s 58ms/step - loss: 0.0143 - accuracy: 0.9959\n",
      "Epoch 15/20\n",
      "840/840 [==============================] - 59s 70ms/step - loss: 0.0157 - accuracy: 0.9952\n",
      "Epoch 16/20\n",
      "840/840 [==============================] - 57s 68ms/step - loss: 0.0133 - accuracy: 0.9961\n",
      "Epoch 17/20\n",
      "840/840 [==============================] - 46s 54ms/step - loss: 0.0149 - accuracy: 0.9955\n",
      "Epoch 18/20\n",
      "840/840 [==============================] - 31s 37ms/step - loss: 0.0134 - accuracy: 0.9963\n",
      "Epoch 19/20\n",
      "840/840 [==============================] - 50s 59ms/step - loss: 0.0130 - accuracy: 0.9962\n",
      "Epoch 20/20\n",
      "840/840 [==============================] - 54s 64ms/step - loss: 0.0142 - accuracy: 0.9960\n"
     ]
    },
    {
     "data": {
      "text/plain": [
       "<keras.src.callbacks.History at 0x19e34c8efd0>"
      ]
     },
     "execution_count": 32,
     "metadata": {},
     "output_type": "execute_result"
    }
   ],
   "source": [
    "# Training the model with callbacks\n",
    "callbacks = myCallback()\n",
    "model.fit(train_x, train_y, batch_size=50, epochs=20, callbacks=[callbacks])"
   ]
  },
  {
   "cell_type": "code",
   "execution_count": 33,
   "id": "025df28d",
   "metadata": {},
   "outputs": [
    {
     "name": "stdout",
     "output_type": "stream",
     "text": [
      "Training Loss: 0.003328402992337942\n",
      "Training Accuracy: 0.9990000128746033\n"
     ]
    }
   ],
   "source": [
    "# Evaluate the model on the training data\n",
    "train_loss, train_accuracy = model.evaluate(train_x, train_y, verbose=0)\n",
    "\n",
    "print(\"Training Loss:\", train_loss)\n",
    "print(\"Training Accuracy:\", train_accuracy)"
   ]
  },
  {
   "cell_type": "code",
   "execution_count": 34,
   "id": "b376252c",
   "metadata": {},
   "outputs": [
    {
     "name": "stdout",
     "output_type": "stream",
     "text": [
      "875/875 [==============================] - 17s 19ms/step\n"
     ]
    }
   ],
   "source": [
    "# Making predictions on the test set\n",
    "results = model.predict(test_x)\n",
    "results = np.argmax(results, axis=1)"
   ]
  },
  {
   "cell_type": "code",
   "execution_count": 35,
   "id": "640316c4",
   "metadata": {
    "execution": {
     "iopub.execute_input": "2024-04-12T05:14:45.896073Z",
     "iopub.status.busy": "2024-04-12T05:14:45.895721Z",
     "iopub.status.idle": "2024-04-12T05:14:48.925060Z",
     "shell.execute_reply": "2024-04-12T05:14:48.923765Z"
    },
    "papermill": {
     "duration": 3.139055,
     "end_time": "2024-04-12T05:14:48.927431",
     "exception": false,
     "start_time": "2024-04-12T05:14:45.788376",
     "status": "completed"
    },
    "tags": []
   },
   "outputs": [],
   "source": [
    "# Creating a submission dataframe\n",
    "submission = pd.DataFrame({'ImageId': range(1, len(results) + 1), 'Label': results})\n",
    "\n",
    "# Saving the submission dataframe to a CSV file\n",
    "submission.to_csv(\"submission.csv\", index=False)"
   ]
  },
  {
   "cell_type": "code",
   "execution_count": null,
   "id": "c986484c",
   "metadata": {},
   "outputs": [],
   "source": []
  },
  {
   "cell_type": "code",
   "execution_count": null,
   "id": "0a3dcc59",
   "metadata": {},
   "outputs": [],
   "source": []
  }
 ],
 "metadata": {
  "kaggle": {
   "accelerator": "nvidiaTeslaT4",
   "dataSources": [
    {
     "databundleVersionId": 861823,
     "sourceId": 3004,
     "sourceType": "competition"
    }
   ],
   "dockerImageVersionId": 30683,
   "isGpuEnabled": true,
   "isInternetEnabled": true,
   "language": "python",
   "sourceType": "notebook"
  },
  "kernelspec": {
   "display_name": "Python 3",
   "language": "python",
   "name": "python3"
  },
  "language_info": {
   "codemirror_mode": {
    "name": "ipython",
    "version": 3
   },
   "file_extension": ".py",
   "mimetype": "text/x-python",
   "name": "python",
   "nbconvert_exporter": "python",
   "pygments_lexer": "ipython3",
   "version": "3.11.4"
  },
  "papermill": {
   "default_parameters": {},
   "duration": 105.339582,
   "end_time": "2024-04-12T05:14:52.156134",
   "environment_variables": {},
   "exception": null,
   "input_path": "__notebook__.ipynb",
   "output_path": "__notebook__.ipynb",
   "parameters": {},
   "start_time": "2024-04-12T05:13:06.816552",
   "version": "2.5.0"
  }
 },
 "nbformat": 4,
 "nbformat_minor": 5
}
